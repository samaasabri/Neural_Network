{
  "nbformat": 4,
  "nbformat_minor": 0,
  "metadata": {
    "colab": {
      "provenance": [],
      "include_colab_link": true
    },
    "kernelspec": {
      "name": "python3",
      "display_name": "Python 3"
    },
    "language_info": {
      "name": "python"
    }
  },
  "cells": [
    {
      "cell_type": "markdown",
      "metadata": {
        "id": "view-in-github",
        "colab_type": "text"
      },
      "source": [
        "<a href=\"https://colab.research.google.com/github/samaasabri/Neural_Network/blob/main/NN2.ipynb\" target=\"_parent\"><img src=\"https://colab.research.google.com/assets/colab-badge.svg\" alt=\"Open In Colab\"/></a>"
      ]
    },
    {
      "cell_type": "code",
      "source": [
        "Input_layer=[1,1,1,1,1,1]\n",
        "hidden_layers=3\n",
        "neurons=[10,10,10]\n",
        "activision=1\n",
        "Target=[0,0,1]"
      ],
      "metadata": {
        "id": "90YjK7akrvEv"
      },
      "execution_count": 1,
      "outputs": []
    },
    {
      "cell_type": "code",
      "source": [
        "import numpy as np\n",
        "\n",
        "#Both parameters taken from GUI\n",
        "#ex >>(3,[10,10,10])\n",
        "\n",
        "def Intialize_weights(hidden_layers,neurons):\n",
        "  wieght_matrices=[]\n",
        "  for i in range(hidden_layers+1):\n",
        "    w_i=[]\n",
        "    if i==0:\n",
        "      w_i=np.random.rand(neurons[i],6)\n",
        "    elif i== hidden_layers:\n",
        "      w_i=np.random.rand(3,neurons[i-1])\n",
        "    else:\n",
        "      w_i=np.random.rand(neurons[i],neurons[i-1])\n",
        "\n",
        "\n",
        "    #print(w_i.shape)\n",
        "    #print('----------------------------------------')\n",
        "    wieght_matrices.append(w_i)\n",
        "\n",
        "  return  wieght_matrices\n",
        "\n",
        "wieght_matrices=Intialize_weights(hidden_layers,neurons)"
      ],
      "metadata": {
        "id": "FR760VxKu9Mq"
      },
      "execution_count": 2,
      "outputs": []
    },
    {
      "cell_type": "markdown",
      "source": [
        "# **Forward**"
      ],
      "metadata": {
        "id": "pQkwCeXtgjka"
      }
    },
    {
      "cell_type": "code",
      "source": [
        "def feedForward(Input_layer,neurons,wieght_matrices,activision):\n",
        "    #activison = 1 ---> sigmoid\n",
        "    #activison = 0 ---> tengent\n",
        "  neurons.append(3)\n",
        "  #contains all f for each layer\n",
        "  array_of_fs=[]\n",
        "\n",
        "  def sigmoid(f_i):\n",
        "    return 1/(1+np.exp(-f_i))\n",
        "\n",
        "  def tengent(f_i):\n",
        "    return np.tanh(f_i)\n",
        "\n",
        "  for i in range(hidden_layers+1):\n",
        "    #print(\"Layer: \",i)\n",
        "\n",
        "    #f contains net value for wach neuron\n",
        "    f=[]\n",
        "\n",
        "    for n in range(neurons[i]):\n",
        "      #print(\"Neuron: \",n)\n",
        "      #print(wieght_matrices[i][n])\n",
        "\n",
        "      if i==0:\n",
        "        f_i=np.dot(wieght_matrices[i][n],Input_layer)\n",
        "        if activision:\n",
        "            f_i = sigmoid(f_i)\n",
        "        else:\n",
        "            f_i = tengent(f_i)\n",
        "        f.append(f_i)\n",
        "      else:\n",
        "        f_i=np.dot(wieght_matrices[i][n],array_of_fs[i-1])\n",
        "        if activision:\n",
        "            f_i = sigmoid(f_i)\n",
        "        else:\n",
        "            f_i = tengent(f_i)\n",
        "        f.append(f_i)\n",
        "\n",
        "\n",
        "    array_of_fs.append(f)\n",
        "  return  array_of_fs\n"
      ],
      "metadata": {
        "id": "dU-GwSILh2jI"
      },
      "execution_count": 3,
      "outputs": []
    },
    {
      "cell_type": "code",
      "source": [
        "wieght_matrices=Intialize_weights(hidden_layers,neurons)\n",
        "array_of_fs=feedForward(Input_layer,neurons,wieght_matrices,0)\n",
        "print(array_of_fs)\n",
        "print(wieght_matrices)"
      ],
      "metadata": {
        "colab": {
          "base_uri": "https://localhost:8080/"
        },
        "id": "qeSE-52WqglZ",
        "outputId": "b8e08997-9758-475d-cddc-0d4f8ddf3e90"
      },
      "execution_count": 46,
      "outputs": [
        {
          "output_type": "stream",
          "name": "stdout",
          "text": [
            "[[0.9937327748627506, 0.9938650352723146, 0.9275213318150355, 0.9827166810307251, 0.9996951795572577, 0.9458191329684815, 0.9989532782782836, 0.993715622236293, 0.9970198255341146, 0.9695082729577397], [0.9976925656149573, 0.9999877955081441, 0.9999437273209884, 0.9999469608616437, 0.9997318902457392, 0.999206415013522, 0.999956094477731, 0.9993350669356282, 0.9997790615009122, 0.9995665890151798], [0.9998933704360571, 0.9997960058349712, 0.9999532583411098, 0.9999475829052437, 0.9992944540094847, 0.9997468091703492, 0.9980328537962038, 0.9995751814068188, 0.9999497590650789, 0.9999687089709111], [0.9999599144836837, 0.9995486567123334, 0.9997589534137377]]\n",
            "[array([[0.75555964, 0.98483861, 0.44957223, 0.40821876, 0.0529447 ,\n",
            "        0.23008118],\n",
            "       [0.6955377 , 0.26020667, 0.45182203, 0.72684567, 0.60402046,\n",
            "        0.15348043],\n",
            "       [0.00346208, 0.2504697 , 0.54703208, 0.21330968, 0.11868251,\n",
            "        0.5073929 ],\n",
            "       [0.85865365, 0.47530254, 0.67418226, 0.04248507, 0.30948419,\n",
            "        0.011133  ],\n",
            "       [0.99635688, 0.76329142, 0.96684546, 0.75586167, 0.36152567,\n",
            "        0.5505101 ],\n",
            "       [0.10524935, 0.34632768, 0.04189681, 0.55279365, 0.25940931,\n",
            "        0.48487844],\n",
            "       [0.3916885 , 0.62322055, 0.78142398, 0.33920948, 0.79237749,\n",
            "        0.84943792],\n",
            "       [0.4498164 , 0.31574745, 0.42770791, 0.37158549, 0.3245104 ,\n",
            "        0.99047659],\n",
            "       [0.43919044, 0.13611441, 0.8245704 , 0.28381053, 0.71466969,\n",
            "        0.85535924],\n",
            "       [0.58834671, 0.47727271, 0.18927463, 0.31582806, 0.07416047,\n",
            "        0.4391593 ]]), array([[0.21604199, 0.56178178, 0.80012284, 0.10271407, 0.26945434,\n",
            "        0.0516765 , 0.42437453, 0.12015123, 0.62625377, 0.28854839],\n",
            "       [0.51844885, 0.773473  , 0.84809682, 0.62925844, 0.95239425,\n",
            "        0.54987666, 0.82618756, 0.03593234, 0.26522196, 0.73938212],\n",
            "       [0.04281856, 0.90406938, 0.87840876, 0.74848137, 0.03619571,\n",
            "        0.98288823, 0.85713147, 0.48150904, 0.27882073, 0.17464809],\n",
            "       [0.09738463, 0.53715753, 0.71662499, 0.23659665, 0.50780159,\n",
            "        0.87667022, 0.88880864, 0.52476333, 0.89544956, 0.10523756],\n",
            "       [0.94421501, 0.06756648, 0.15117662, 0.29802207, 0.49433647,\n",
            "        0.72063227, 0.49512216, 0.16422851, 0.94916723, 0.24766267],\n",
            "       [0.37820618, 0.12251726, 0.65935038, 0.3979666 , 0.41841432,\n",
            "        0.38368576, 0.03195338, 0.15954431, 0.49147934, 0.98394034],\n",
            "       [0.71328949, 0.60785562, 0.55887729, 0.43188935, 0.12727013,\n",
            "        0.99948787, 0.60862053, 0.18691885, 0.67721119, 0.58387336],\n",
            "       [0.10208064, 0.06605533, 0.87995084, 0.2556775 , 0.71656931,\n",
            "        0.23439301, 0.95054236, 0.00799516, 0.87428714, 0.00265963],\n",
            "       [0.39446199, 0.02233206, 0.04862629, 0.52985205, 0.81887278,\n",
            "        0.57919598, 0.42850134, 0.36780329, 0.78316403, 0.65449431],\n",
            "       [0.03047741, 0.54306931, 0.62181377, 0.92326974, 0.03709684,\n",
            "        0.91326181, 0.66159656, 0.00834782, 0.58039219, 0.01605682]]), array([[0.07527618, 0.20328042, 0.26732151, 0.80397724, 0.47632882,\n",
            "        0.34301863, 0.29233489, 0.73225251, 0.80082017, 0.92672353],\n",
            "       [0.15877529, 0.178124  , 0.49398947, 0.19942328, 0.34051514,\n",
            "        0.92187828, 0.4767638 , 0.93031537, 0.23871414, 0.65894105],\n",
            "       [0.0880983 , 0.17587109, 0.76336791, 0.96036197, 0.40765706,\n",
            "        0.64445269, 0.49719847, 0.4034508 , 0.93641052, 0.45674546],\n",
            "       [0.00605414, 0.11063704, 0.91268345, 0.4461464 , 0.60565825,\n",
            "        0.56175463, 0.89638141, 0.64565543, 0.9750101 , 0.1161515 ],\n",
            "       [0.16722127, 0.33692902, 0.1560408 , 0.90945369, 0.37183593,\n",
            "        0.23258314, 0.64811873, 0.10250067, 0.42955656, 0.62161884],\n",
            "       [0.4763886 , 0.4284143 , 0.93303996, 0.17188767, 0.60542511,\n",
            "        0.23666399, 0.17923095, 0.15297982, 0.57917199, 0.72605988],\n",
            "       [0.79809716, 0.39523384, 0.6843076 , 0.29525872, 0.06152789,\n",
            "        0.0948336 , 0.25043416, 0.01223577, 0.83970532, 0.03224414],\n",
            "       [0.65497416, 0.12342312, 0.3996009 , 0.40858503, 0.28252775,\n",
            "        0.34307101, 0.70063737, 0.01152524, 0.91230246, 0.39406026],\n",
            "       [0.67135236, 0.22477738, 0.0571362 , 0.6583609 , 0.41083421,\n",
            "        0.65557474, 0.69261719, 0.22038266, 0.83173392, 0.87609248],\n",
            "       [0.80052791, 0.70014868, 0.05322037, 0.92561429, 0.05861895,\n",
            "        0.57191594, 0.45003247, 0.62406609, 0.67913421, 0.67263008]]), array([[0.13735483, 0.79922325, 0.55137524, 0.69631204, 0.20429059,\n",
            "        0.33220219, 0.31639295, 0.83041817, 0.60400429, 0.93874085],\n",
            "       [0.18880805, 0.72387092, 0.15481532, 0.22321823, 0.20787779,\n",
            "        0.84482972, 0.68308505, 0.36449969, 0.3528732 , 0.45630183],\n",
            "       [0.40711025, 0.4568069 , 0.1064534 , 0.12685889, 0.85540824,\n",
            "        0.56481722, 0.29969692, 0.73757009, 0.05121012, 0.90767009]])]\n"
          ]
        }
      ]
    },
    {
      "cell_type": "markdown",
      "source": [
        "# **BackPropagation**"
      ],
      "metadata": {
        "id": "d-0KTNUnvHqP"
      }
    },
    {
      "cell_type": "code",
      "source": [
        "def calc_weight_arr(arr_of_arrs,idx):\n",
        "  arr_of_wights=[]\n",
        "  for i in arr_of_arrs:\n",
        "    arr_of_wights.append(i[idx])\n",
        "  return arr_of_wights"
      ],
      "metadata": {
        "id": "5H3wRh2TZHeY"
      },
      "execution_count": 50,
      "outputs": []
    },
    {
      "cell_type": "code",
      "source": [
        "def sigmoid_dash(f_i):\n",
        "    return ((f_i)*(1-f_i))\n",
        "\n",
        "def tengent_dash(f_i):\n",
        "    return (1-pow(np.tanh(f_i),2))\n",
        "\n"
      ],
      "metadata": {
        "id": "_QCtAuNevGPE"
      },
      "execution_count": 51,
      "outputs": []
    },
    {
      "cell_type": "code",
      "source": [
        "def backPropagate(Target,neurons,wieght_matrices,activision,array_of_fs):\n",
        "\n",
        "  array_of_errors=[]\n",
        "  j=-1\n",
        "\n",
        "  for i in range(hidden_layers,-1,-1):\n",
        "    print(\"Layer:\" ,i)\n",
        "    error=[]\n",
        "\n",
        "    for n in range(neurons[i]):\n",
        "      print(\"Neuron: \",n)\n",
        "    #check activision function\n",
        "      if activision:\n",
        "        dash = sigmoid_dash(array_of_fs[i][n])\n",
        "\n",
        "        if i==hidden_layers:\n",
        "          print('Target:  ',Target[n])\n",
        "          error_i=(Target[n]- array_of_fs[i][n])*dash\n",
        "\n",
        "        else:\n",
        "          #print(\"Array of errors: \",array_of_errors[j])\n",
        "          # print(\"Weight matrix: \",wieght_matrices[i][n])\n",
        "          wights=calc_weight_arr(wieght_matrices[i+1],n)\n",
        "          # print(\"Weight matrix:\",wights)\n",
        "          # print(\"N is : \",n)\n",
        "\n",
        "          error_i= np.dot(wights,array_of_errors[j]) *dash\n",
        "         #continue\n",
        "\n",
        "\n",
        "      else:\n",
        "          error_i = tengent_dash(array_of_fs[i][n])\n",
        "\n",
        "      error.append(error_i)\n",
        "      #print(error)\n",
        "      #print(array_of_fs[i][n])\n",
        "\n",
        "    array_of_errors.append(error)\n",
        "    print(\"Array of errors: \",array_of_errors)\n",
        "    print(\"----------------\")\n",
        "    j+=1\n",
        "\n"
      ],
      "metadata": {
        "id": "XHHs8Rz_N3_c"
      },
      "execution_count": 60,
      "outputs": []
    },
    {
      "cell_type": "code",
      "source": [
        "backPropagate(Target,neurons,wieght_matrices,activision,array_of_fs)"
      ],
      "metadata": {
        "colab": {
          "base_uri": "https://localhost:8080/"
        },
        "id": "M_eSE1_JU76Z",
        "outputId": "b863226a-7f5f-412a-f33d-d43b1a84a49b"
      },
      "execution_count": 61,
      "outputs": [
        {
          "output_type": "stream",
          "name": "stdout",
          "text": [
            "Layer: 3\n",
            "Neuron:  0\n",
            "Target:   0\n",
            "Neuron:  1\n",
            "Target:   0\n",
            "Neuron:  2\n",
            "Target:   1\n",
            "Array of errors:  [[-4.0082302683465206e-05, -0.000450935958083448, 5.808945110882791e-08]]\n",
            "----------------\n",
            "Layer: 2\n",
            "Neuron:  0\n",
            "Neuron:  1\n",
            "Neuron:  2\n",
            "Neuron:  3\n",
            "Neuron:  4\n",
            "Neuron:  5\n",
            "Neuron:  6\n",
            "Neuron:  7\n",
            "Neuron:  8\n",
            "Neuron:  9\n",
            "Array of errors:  [[-4.0082302683465206e-05, -0.000450935958083448, 5.808945110882791e-08], [-9.661974182386399e-09, -7.310222300134176e-08, -4.295638178368009e-09, -6.738364711454851e-09, -7.182912376703746e-08, -9.979438058788053e-08, -6.296070011174092e-07, -8.391199384883627e-08, -9.210213922680235e-09, -7.614029094748932e-09]]\n",
            "----------------\n",
            "Layer: 1\n",
            "Neuron:  0\n",
            "Neuron:  1\n",
            "Neuron:  2\n",
            "Neuron:  3\n",
            "Neuron:  4\n",
            "Neuron:  5\n",
            "Neuron:  6\n",
            "Neuron:  7\n",
            "Neuron:  8\n",
            "Neuron:  9\n",
            "Array of errors:  [[-4.0082302683465206e-05, -0.000450935958083448, 5.808945110882791e-08], [-9.661974182386399e-09, -7.310222300134176e-08, -4.295638178368009e-09, -6.738364711454851e-09, -7.182912376703746e-08, -9.979438058788053e-08, -6.296070011174092e-07, -8.391199384883627e-08, -9.210213922680235e-09, -7.614029094748932e-09], [-1.4780282056355436e-09, -4.272018792435271e-12, -3.4760591001985366e-11, -1.8310795720049368e-11, -5.0693924945181157e-11, -1.7165216286211285e-10, -1.477644362213267e-11, -7.923933995095423e-11, -1.6401106290631028e-10, -1.0550443276993168e-10]]\n",
            "----------------\n",
            "Layer: 0\n",
            "Neuron:  0\n",
            "Neuron:  1\n",
            "Neuron:  2\n",
            "Neuron:  3\n",
            "Neuron:  4\n",
            "Neuron:  5\n",
            "Neuron:  6\n",
            "Neuron:  7\n",
            "Neuron:  8\n",
            "Neuron:  9\n",
            "Array of errors:  [[-4.0082302683465206e-05, -0.000450935958083448, 5.808945110882791e-08], [-9.661974182386399e-09, -7.310222300134176e-08, -4.295638178368009e-09, -6.738364711454851e-09, -7.182912376703746e-08, -9.979438058788053e-08, -6.296070011174092e-07, -8.391199384883627e-08, -9.210213922680235e-09, -7.614029094748932e-09], [-1.4780282056355436e-09, -4.272018792435271e-12, -3.4760591001985366e-11, -1.8310795720049368e-11, -5.0693924945181157e-11, -1.7165216286211285e-10, -1.477644362213267e-11, -7.923933995095423e-11, -1.6401106290631028e-10, -1.0550443276993168e-10], [-3.264246147129873e-12, -5.9420035878610615e-12, -1.0099222279775624e-10, -8.139435937917166e-12, -2.1533477309188899e-13, -2.3369324193032354e-11, -9.743297541694487e-13, -1.9009326113317087e-12, -4.02398907272031e-12, -2.1786185385529003e-11]]\n",
            "----------------\n"
          ]
        }
      ]
    }
  ]
}